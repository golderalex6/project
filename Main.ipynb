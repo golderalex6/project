{
  "cells": [
    {
      "cell_type": "markdown",
      "metadata": {
        "id": "view-in-github",
        "colab_type": "text"
      },
      "source": [
        "<a href=\"https://colab.research.google.com/github/golderalex6/project/blob/main/Main.ipynb\" target=\"_parent\"><img src=\"https://colab.research.google.com/assets/colab-badge.svg\" alt=\"Open In Colab\"/></a>"
      ]
    },
    {
      "cell_type": "markdown",
      "source": [
        "# --You need to execute this block first!!"
      ],
      "metadata": {
        "id": "eMEk_4a8FBr7"
      },
      "id": "eMEk_4a8FBr7"
    },
    {
      "cell_type": "code",
      "source": [
        "import os\n",
        "if os.path.exists('project'):\n",
        "    print('You already have the folder!!')\n",
        "else:\n",
        "    !git clone https://github.com/golderalex6/project.git\n",
        "    !ls /content/project/\n",
        "    !unzip /content/project/Data.zip"
      ],
      "metadata": {
        "id": "uEop1GVAlsFU"
      },
      "id": "uEop1GVAlsFU",
      "execution_count": null,
      "outputs": []
    },
    {
      "cell_type": "code",
      "execution_count": null,
      "id": "ce80dad7",
      "metadata": {
        "id": "ce80dad7"
      },
      "outputs": [],
      "source": [
        "import pandas as pd\n",
        "import matplotlib.pyplot as plt\n",
        "import numpy as np\n",
        "from math import *\n",
        "from matplotlib.ticker import FuncFormatter\n",
        "\n",
        "%run /content/project/Processing_US_Data.ipynb\n",
        "%run /content/project/Processing_VN_Data.ipynb"
      ]
    },
    {
      "cell_type": "markdown",
      "source": [
        "# 1/Descriptive statistics"
      ],
      "metadata": {
        "id": "xWCy7LDzFbfD"
      },
      "id": "xWCy7LDzFbfD"
    },
    {
      "cell_type": "code",
      "source": [
        "#1.\n",
        "descriptive=us_day_2m.sum().describe()\n",
        "\n",
        "mean=descriptive['mean']#mean\n",
        "\n",
        "std=descriptive['std']#standard deviation\n",
        "\n",
        "median=descriptive['50%']#median\n",
        "\n",
        "q1=descriptive['25%']#Q1\n",
        "\n",
        "q3=descriptive['75%']#Q3\n",
        "\n",
        "max=descriptive['max']#Max\n",
        "\n",
        "min=descriptive['min']#Min\n",
        "\n",
        "range=max-min#Range\n",
        "\n",
        "day=list(map(lambda x:x[6:],list(us_day_2m.sum().index)))\n",
        "case=list(us_day_2m.sum().values)\n",
        "plt.figure(figsize=(18,8))\n",
        "plt.plot(day,case,'b.')\n",
        "plt.xticks(rotation=-60)\n",
        "plt.xlabel('Day(July-August)',fontsize=13)\n",
        "plt.ylabel('Cases a day',fontsize=13)\n",
        "plt.show()#Draw"
      ],
      "metadata": {
        "id": "-HqH_mygTP32"
      },
      "id": "-HqH_mygTP32",
      "execution_count": null,
      "outputs": []
    },
    {
      "cell_type": "markdown",
      "source": [
        "# 2/Test a hypothesis and construct a confidence interval for the mean of a population"
      ],
      "metadata": {
        "id": "sUDh4KzvFnyD"
      },
      "id": "sUDh4KzvFnyD"
    },
    {
      "cell_type": "code",
      "execution_count": null,
      "id": "4cf7a18d-baad-475f-ac72-4329b5c29ae0",
      "metadata": {
        "scrolled": true,
        "id": "4cf7a18d-baad-475f-ac72-4329b5c29ae0"
      },
      "outputs": [],
      "source": [
        "#2.\n",
        "t_025_61=1.99962#https://shorturl.at/JNVZ4\n",
        "h0=24000\n",
        "n=62\n",
        "\n",
        "mean_2m=us_day_2m.sum().mean()#mean\n",
        "\n",
        "std=us_day_2m.sum().std()#standard deviation\n",
        "\n",
        "t0=(mean_2m-h0)*sqrt(n)/std#test statitic\n",
        "\n",
        "CI=(mean_2m-t_025_61*std/sqrt(n),mean_2m+t_025_61*std/sqrt(n))#confidence interval\n"
      ]
    },
    {
      "cell_type": "markdown",
      "source": [
        "# 3/Test a hypothesis and construct a confidence interval for the proportion of a population"
      ],
      "metadata": {
        "id": "yS-QTRcgF3JS"
      },
      "id": "yS-QTRcgF3JS"
    },
    {
      "cell_type": "code",
      "execution_count": null,
      "id": "4f480f46-5292-4a3a-a8fe-e457ae778506",
      "metadata": {
        "scrolled": true,
        "id": "4f480f46-5292-4a3a-a8fe-e457ae778506"
      },
      "outputs": [],
      "source": [
        "#3.\n",
        "n=10000\n",
        "p0=0.015\n",
        "z_0025=1.96\n",
        "\n",
        "p=us_case_2m['AVG_case_per1000'].sum()/n#propotion\n",
        "\n",
        "z0=(p-p0)/sqrt(p0*(1-p0)/n)#test statitic\n",
        "\n",
        "CI=(p-z_0025*sqrt(p*(1-p)/n),p+z_0025*sqrt(p*(1-p)/n))#confident interval\n",
        "\n",
        "CI"
      ]
    },
    {
      "cell_type": "markdown",
      "source": [
        "# 4/Test a hypothesis and construct a confidence interval for the difference in means of two populations."
      ],
      "metadata": {
        "id": "8jeWQh3bGBra"
      },
      "id": "8jeWQh3bGBra"
    },
    {
      "cell_type": "code",
      "execution_count": null,
      "id": "71b4a35f-7cdf-4120-8584-fff253c4659e",
      "metadata": {
        "id": "71b4a35f-7cdf-4120-8584-fff253c4659e"
      },
      "outputs": [],
      "source": [
        "#4.\n",
        "#formula link:https://shorturl.at/dgLX4\n",
        "n_vn=n_us=62\n",
        "us_day_2m\n",
        "vn_day_2m\n",
        "delta=-10000\n",
        "\n",
        "mean_us=us_day_2m.sum().mean()#US sample mean\n",
        "\n",
        "std_us=us_day_2m.sum().std()#US sample standard deviation\n",
        "\n",
        "mean_vn=vn_day_2m.sum().mean()#Viet Nam sample mean\n",
        "\n",
        "std_vn=vn_day_2m.sum().std()#Viet Nam sample standard deviation\n",
        "\n",
        "degree_of_freedom=(std_vn**2/n_vn+std_us**2/n_us)**2/(std_vn**4/((n_vn-1)*n_vn**2)+std_us**4/((n_us-1)*n_us**2))#degree of freedom\n",
        "\n",
        "t_025_dr=1.99962\n",
        "\n",
        "t0=(mean_vn-mean_us-delta)/sqrt((std_us**2+std_vn**2)/n_vn)#Test hypothesis\n",
        "degree_of_freedom"
      ]
    },
    {
      "cell_type": "markdown",
      "source": [
        "# 5/Test a hypothesis and construct a confidence interval for the difference in proportions of two populations."
      ],
      "metadata": {
        "id": "Tl9vB4SkGVOM"
      },
      "id": "Tl9vB4SkGVOM"
    },
    {
      "cell_type": "code",
      "execution_count": null,
      "id": "3016f06f-b8ab-4e0b-baf7-49b90c72b458",
      "metadata": {
        "id": "3016f06f-b8ab-4e0b-baf7-49b90c72b458"
      },
      "outputs": [],
      "source": [
        "#5.\n",
        "n=10000\n",
        "delta_p=-0.012\n",
        "\n",
        "p_us=us_case_2m['AVG_case_per1000'].sum()/n#propotion of US\n",
        "\n",
        "p_vn=vn_case_2m['AVG_case_per1000'].sum()/n#propotion of Viet Nam\n",
        "\n",
        "pooled_p=(us_case_2m['AVG_case_per1000'].sum()+vn_case_2m['AVG_case_per1000'].sum())/(2*n)#pooled propotion\n",
        "\n",
        "z0=(p_vn-p_us-delta_p)/sqrt(2*pooled_p*(1-pooled_p)/n)#test statitic\n",
        "z0"
      ]
    },
    {
      "cell_type": "markdown",
      "source": [
        "# 6/Construct a linear regression for the data."
      ],
      "metadata": {
        "id": "nn20iHK_GZZc"
      },
      "id": "nn20iHK_GZZc"
    },
    {
      "cell_type": "code",
      "execution_count": null,
      "id": "8bd06928",
      "metadata": {
        "id": "8bd06928"
      },
      "outputs": [],
      "source": [
        "#6.\n",
        "mean_y=us_case_2m_people['ncase_th_periods'].sum()/51#mean y\n",
        "\n",
        "mean_x=us_case_2m_people['population'].sum()/51#mean x\n",
        "\n",
        "S_xx=((us_case_2m_people['population']-mean_x)**2).sum()#Sxx\n",
        "\n",
        "S_xy=((us_case_2m_people['population']-mean_x)*(us_case_2m_people['ncase_th_periods']-mean_y)).sum()#Sxy\n",
        "\n",
        "B1=S_xy/S_xx#B1\n",
        "\n",
        "B0=mean_y-B1*mean_x#B0\n",
        "SS_t=((us_case_2m_people['ncase_th_periods']-mean_y)**2).sum()#SSt\n",
        "\n",
        "R=S_xy/sqrt(S_xx*SS_t)#corelation coefficent\n",
        "\n",
        "#graph\n",
        "f=lambda x:x/10**6\n",
        "x=[0,4*10**7]\n",
        "y=list(map(lambda x:x*B1+B0,x))\n",
        "plt.figure(figsize=(15,8))\n",
        "plt.plot(list(map(f,us_case_2m_people['population'].values)),list(map(f,us_case_2m_people['ncase_th_periods'].values)),marker='.',linestyle='',markersize=12)\n",
        "plt.plot(list(map(f,x)),list(map(f,y)),color='green')\n",
        "plt.xlim(0,40)\n",
        "plt.ylim(0,1)\n",
        "plt.ylabel('New case a day(Milion)',fontsize=20)\n",
        "plt.xlabel('People(Million)',fontsize=20)\n",
        "plt.show()"
      ]
    }
  ],
  "metadata": {
    "kernelspec": {
      "display_name": "Python 3 (ipykernel)",
      "language": "python",
      "name": "python3"
    },
    "language_info": {
      "codemirror_mode": {
        "name": "ipython",
        "version": 3
      },
      "file_extension": ".py",
      "mimetype": "text/x-python",
      "name": "python",
      "nbconvert_exporter": "python",
      "pygments_lexer": "ipython3",
      "version": "3.10.7"
    },
    "colab": {
      "provenance": [],
      "toc_visible": true,
      "include_colab_link": true
    }
  },
  "nbformat": 4,
  "nbformat_minor": 5
}